{
 "cells": [
  {
   "cell_type": "code",
   "execution_count": 2,
   "metadata": {},
   "outputs": [
    {
     "ename": "TypeError",
     "evalue": "add_argument() missing 1 required positional argument: 'argument'",
     "output_type": "error",
     "traceback": [
      "\u001b[1;31m---------------------------------------------------------------------------\u001b[0m",
      "\u001b[1;31mTypeError\u001b[0m                                 Traceback (most recent call last)",
      "Cell \u001b[1;32mIn[2], line 16\u001b[0m\n\u001b[0;32m     13\u001b[0m lst \u001b[38;5;241m=\u001b[39m pd\u001b[38;5;241m.\u001b[39mread_csv(\u001b[38;5;124m'\u001b[39m\u001b[38;5;124mcrwaling_list.csv\u001b[39m\u001b[38;5;124m'\u001b[39m)\n\u001b[0;32m     14\u001b[0m lst[\u001b[38;5;124m'\u001b[39m\u001b[38;5;124mAirline\u001b[39m\u001b[38;5;124m'\u001b[39m] \u001b[38;5;241m=\u001b[39m \u001b[38;5;28;01mNone\u001b[39;00m\n\u001b[1;32m---> 16\u001b[0m options \u001b[38;5;241m=\u001b[39m \u001b[43mChromiumOptions\u001b[49m\u001b[38;5;241;43m.\u001b[39;49m\u001b[43madd_argument\u001b[49m\u001b[43m(\u001b[49m\u001b[38;5;124;43m\"\u001b[39;49m\u001b[38;5;124;43m--proxy-server=socks5://127.0.0.1:9150\u001b[39;49m\u001b[38;5;124;43m\"\u001b[39;49m\u001b[43m)\u001b[49m\n",
      "\u001b[1;31mTypeError\u001b[0m: add_argument() missing 1 required positional argument: 'argument'"
     ]
    }
   ],
   "source": [
    "import time\n",
    "\n",
    "from selenium.common.exceptions import WebDriverException\n",
    "from selenium.webdriver.remote.webdriver import By\n",
    "import selenium.webdriver.support.expected_conditions as EC  # noqa\n",
    "from selenium.webdriver.support.wait import WebDriverWait\n",
    "import undetected_chromedriver as uc\n",
    "# import undetected_chromedriver.options as options\n",
    "from selenium.webdriver.chromium.options import ChromiumOptions\n",
    "import pandas as pd\n",
    "import numpy as np\n",
    "from tqdm import tqdm\n",
    "lst = pd.read_csv('crwaling_list.csv')\n",
    "lst['Airline'] = None\n",
    "\n",
    "options = ChromiumOptions.add_argument(\"--proxy-server=socks5://127.0.0.1:9150\")"
   ]
  },
  {
   "cell_type": "code",
   "execution_count": 1,
   "metadata": {},
   "outputs": [],
   "source": [
    "from selenium import webdriver\n",
    "from selenium.webdriver.remote.webdriver import By\n",
    "from selenium.webdriver.support.wait import WebDriverWait\n",
    "import pandas as pd\n",
    "import numpy as np\n",
    "from tqdm import tqdm\n",
    "import undetected_chromedriver as uc\n",
    "\n",
    "from selenium.webdriver.chrome.options import Options\n",
    "import subprocess\n",
    "from webdriver_manager.chrome import ChromeDriverManager\n",
    "from selenium.webdriver.chrome.service import Service\n",
    "\n",
    "\n",
    "subprocess.Popen(r'C:\\Program Files\\Google\\Chrome\\Application\\chrome.exe --remote-debugging-port=9150 --user-data-dir=\"C:\\chromeCookie\"')\n",
    "\n",
    "\n",
    "option = Options()\n",
    "option.add_experimental_option(\"debuggerAddress\", \"127.0.0.1:9150\")\n",
    "\n",
    "lst = pd.read_csv('crwaling_list.csv')\n",
    "lst['Airline'] = None\n",
    "driver = webdriver.Chrome(options=option)\n",
    "\n",
    "# def selenium_driver():\n",
    "#     options = webdriver.ChromeOptions()\n",
    "#     # options = uc.options.ChromeOptions()\n",
    "#     options.add_experimental_option(\"debuggerAddress\", \"127.0.0.1:9222\")\n",
    "#     options.add_argument(\"--proxy-server=socks5://127.0.0.1:9150\")\n",
    "#     # options.add_argument('window-size=1920x1080')\n",
    "#     options.add_argument('disable-gpu')\n",
    "#     options.add_experimental_option('excludeSwitches', ['enable-logging'])\n",
    "#     # driver = uc.Chrome(options=options)\n",
    "#     driver = webdriver.Chrome(options=options)\n",
    "\n",
    "#     return driver\n",
    "\n",
    "# driver = selenium_driver()\n",
    "driver.get(f\"https://www.airfleets.net\")\n",
    "# for n in tqdm(lst['Tail_Number'].unique()):\n",
    "#     # sleep = np.random.randint(2, 3)\n",
    "#     driver.get(f\"https://www.airfleets.net/recherche/?key={n}\")\n",
    "    \n",
    "#     try:\n",
    "#         # airline = driver.find_element(By.XPATH, '/html/body/main/div[1]/div/div[2]/table[1]/tbody/tr[2]/td[4]').text\n",
    "#         airline = WebDriverWait(driver, timeout=3).until(\n",
    "#             EC.presence_of_element_located((By.XPATH, '/html/body/main/div[1]/div/div[2]/table[1]/tbody/tr[2]/td[4]'))).text\n",
    "                                               \n",
    "#         lst.loc[lst['Tail_Number'] == n, 'Airline'] = airline\n",
    "\n",
    "#     except:\n",
    "#         print('조회결과 없음 : ', n)"
   ]
  },
  {
   "cell_type": "code",
   "execution_count": 6,
   "metadata": {},
   "outputs": [
    {
     "name": "stderr",
     "output_type": "stream",
     "text": [
      "  0%|          | 1/4880 [00:03<5:19:59,  3.94s/it]"
     ]
    },
    {
     "name": "stdout",
     "output_type": "stream",
     "text": [
      "조회결과 없음 :  N461AS\n"
     ]
    },
    {
     "name": "stderr",
     "output_type": "stream",
     "text": [
      "  0%|          | 2/4880 [00:06<4:39:41,  3.44s/it]"
     ]
    },
    {
     "name": "stdout",
     "output_type": "stream",
     "text": [
      "조회결과 없음 :  N509NK\n"
     ]
    },
    {
     "name": "stderr",
     "output_type": "stream",
     "text": [
      "\n"
     ]
    },
    {
     "ename": "NoSuchWindowException",
     "evalue": "Message: no such window: target window already closed\nfrom unknown error: web view not found\n  (Session info: chrome=112.0.5615.50)\nStacktrace:\nBacktrace:\n\tGetHandleVerifier [0x00AEDCE3+50899]\n\t(No symbol) [0x00A7E111]\n\t(No symbol) [0x00985588]\n\t(No symbol) [0x0096D333]\n\t(No symbol) [0x009CF4DB]\n\t(No symbol) [0x009DDB33]\n\t(No symbol) [0x009CB6F6]\n\t(No symbol) [0x009A7708]\n\t(No symbol) [0x009A886D]\n\tGetHandleVerifier [0x00D53EAE+2566302]\n\tGetHandleVerifier [0x00D892B1+2784417]\n\tGetHandleVerifier [0x00D8327C+2759788]\n\tGetHandleVerifier [0x00B85740+672048]\n\t(No symbol) [0x00A88872]\n\t(No symbol) [0x00A841C8]\n\t(No symbol) [0x00A842AB]\n\t(No symbol) [0x00A771B7]\n\tBaseThreadInitThunk [0x758000F9+25]\n\tRtlGetAppContainerNamedObjectPath [0x76FF7BBE+286]\n\tRtlGetAppContainerNamedObjectPath [0x76FF7B8E+238]\n",
     "output_type": "error",
     "traceback": [
      "\u001b[1;31m---------------------------------------------------------------------------\u001b[0m",
      "\u001b[1;31mNoSuchWindowException\u001b[0m                     Traceback (most recent call last)",
      "Cell \u001b[1;32mIn[6], line 5\u001b[0m\n\u001b[0;32m      1\u001b[0m driver \u001b[38;5;241m=\u001b[39m uc\u001b[38;5;241m.\u001b[39mChrome(seleniumwire_options \u001b[38;5;241m=\u001b[39m seleniumwire_options)\n\u001b[0;32m      3\u001b[0m \u001b[38;5;28;01mfor\u001b[39;00m n \u001b[38;5;129;01min\u001b[39;00m tqdm(lst[\u001b[38;5;124m'\u001b[39m\u001b[38;5;124mTail_Number\u001b[39m\u001b[38;5;124m'\u001b[39m]\u001b[38;5;241m.\u001b[39munique()):\n\u001b[0;32m      4\u001b[0m     \u001b[38;5;66;03m# sleep = np.random.randint(2, 3)\u001b[39;00m\n\u001b[1;32m----> 5\u001b[0m     \u001b[43mdriver\u001b[49m\u001b[38;5;241;43m.\u001b[39;49m\u001b[43mget\u001b[49m\u001b[43m(\u001b[49m\u001b[38;5;124;43mf\u001b[39;49m\u001b[38;5;124;43m\"\u001b[39;49m\u001b[38;5;124;43mhttps://www.airfleets.net/recherche/?key=\u001b[39;49m\u001b[38;5;132;43;01m{\u001b[39;49;00m\u001b[43mn\u001b[49m\u001b[38;5;132;43;01m}\u001b[39;49;00m\u001b[38;5;124;43m\"\u001b[39;49m\u001b[43m)\u001b[49m\n\u001b[0;32m      7\u001b[0m     \u001b[38;5;28;01mtry\u001b[39;00m:\n\u001b[0;32m      8\u001b[0m         \u001b[38;5;66;03m# airline = driver.find_element(By.XPATH, '/html/body/main/div[1]/div/div[2]/table[1]/tbody/tr[2]/td[4]').text\u001b[39;00m\n\u001b[0;32m      9\u001b[0m         airline \u001b[38;5;241m=\u001b[39m WebDriverWait(driver, timeout\u001b[38;5;241m=\u001b[39m\u001b[38;5;241m3\u001b[39m)\u001b[38;5;241m.\u001b[39muntil(\n\u001b[0;32m     10\u001b[0m             EC\u001b[38;5;241m.\u001b[39mpresence_of_element_located((By\u001b[38;5;241m.\u001b[39mXPATH, \u001b[38;5;124m'\u001b[39m\u001b[38;5;124m/html/body/main/div[1]/div/div[2]/table[1]/tbody/tr[2]/td[4]\u001b[39m\u001b[38;5;124m'\u001b[39m)))\u001b[38;5;241m.\u001b[39mtext\n",
      "File \u001b[1;32mc:\\Users\\signlab026\\.pyenv\\pyenv-win\\versions\\3.8.10\\lib\\site-packages\\undetected_chromedriver\\__init__.py:645\u001b[0m, in \u001b[0;36mChrome.get\u001b[1;34m(self, url)\u001b[0m\n\u001b[0;32m    642\u001b[0m \u001b[39mdef\u001b[39;00m \u001b[39mget\u001b[39m(\u001b[39mself\u001b[39m, url):\n\u001b[0;32m    643\u001b[0m     \u001b[39m# if self._get_cdc_props():\u001b[39;00m\n\u001b[0;32m    644\u001b[0m     \u001b[39m#     self._hook_remove_cdc_props()\u001b[39;00m\n\u001b[1;32m--> 645\u001b[0m     \u001b[39mreturn\u001b[39;00m \u001b[39msuper\u001b[39;49m()\u001b[39m.\u001b[39;49mget(url)\n",
      "File \u001b[1;32mc:\\Users\\signlab026\\.pyenv\\pyenv-win\\versions\\3.8.10\\lib\\site-packages\\selenium\\webdriver\\remote\\webdriver.py:449\u001b[0m, in \u001b[0;36mWebDriver.get\u001b[1;34m(self, url)\u001b[0m\n\u001b[0;32m    447\u001b[0m \u001b[39mdef\u001b[39;00m \u001b[39mget\u001b[39m(\u001b[39mself\u001b[39m, url: \u001b[39mstr\u001b[39m) \u001b[39m-\u001b[39m\u001b[39m>\u001b[39m \u001b[39mNone\u001b[39;00m:\n\u001b[0;32m    448\u001b[0m \u001b[39m    \u001b[39m\u001b[39m\"\"\"Loads a web page in the current browser session.\"\"\"\u001b[39;00m\n\u001b[1;32m--> 449\u001b[0m     \u001b[39mself\u001b[39;49m\u001b[39m.\u001b[39;49mexecute(Command\u001b[39m.\u001b[39;49mGET, {\u001b[39m\"\u001b[39;49m\u001b[39murl\u001b[39;49m\u001b[39m\"\u001b[39;49m: url})\n",
      "File \u001b[1;32mc:\\Users\\signlab026\\.pyenv\\pyenv-win\\versions\\3.8.10\\lib\\site-packages\\selenium\\webdriver\\remote\\webdriver.py:440\u001b[0m, in \u001b[0;36mWebDriver.execute\u001b[1;34m(self, driver_command, params)\u001b[0m\n\u001b[0;32m    438\u001b[0m response \u001b[39m=\u001b[39m \u001b[39mself\u001b[39m\u001b[39m.\u001b[39mcommand_executor\u001b[39m.\u001b[39mexecute(driver_command, params)\n\u001b[0;32m    439\u001b[0m \u001b[39mif\u001b[39;00m response:\n\u001b[1;32m--> 440\u001b[0m     \u001b[39mself\u001b[39;49m\u001b[39m.\u001b[39;49merror_handler\u001b[39m.\u001b[39;49mcheck_response(response)\n\u001b[0;32m    441\u001b[0m     response[\u001b[39m\"\u001b[39m\u001b[39mvalue\u001b[39m\u001b[39m\"\u001b[39m] \u001b[39m=\u001b[39m \u001b[39mself\u001b[39m\u001b[39m.\u001b[39m_unwrap_value(response\u001b[39m.\u001b[39mget(\u001b[39m\"\u001b[39m\u001b[39mvalue\u001b[39m\u001b[39m\"\u001b[39m, \u001b[39mNone\u001b[39;00m))\n\u001b[0;32m    442\u001b[0m     \u001b[39mreturn\u001b[39;00m response\n",
      "File \u001b[1;32mc:\\Users\\signlab026\\.pyenv\\pyenv-win\\versions\\3.8.10\\lib\\site-packages\\selenium\\webdriver\\remote\\errorhandler.py:245\u001b[0m, in \u001b[0;36mErrorHandler.check_response\u001b[1;34m(self, response)\u001b[0m\n\u001b[0;32m    243\u001b[0m         alert_text \u001b[39m=\u001b[39m value[\u001b[39m\"\u001b[39m\u001b[39malert\u001b[39m\u001b[39m\"\u001b[39m]\u001b[39m.\u001b[39mget(\u001b[39m\"\u001b[39m\u001b[39mtext\u001b[39m\u001b[39m\"\u001b[39m)\n\u001b[0;32m    244\u001b[0m     \u001b[39mraise\u001b[39;00m exception_class(message, screen, stacktrace, alert_text)  \u001b[39m# type: ignore[call-arg]  # mypy is not smart enough here\u001b[39;00m\n\u001b[1;32m--> 245\u001b[0m \u001b[39mraise\u001b[39;00m exception_class(message, screen, stacktrace)\n",
      "\u001b[1;31mNoSuchWindowException\u001b[0m: Message: no such window: target window already closed\nfrom unknown error: web view not found\n  (Session info: chrome=112.0.5615.50)\nStacktrace:\nBacktrace:\n\tGetHandleVerifier [0x00AEDCE3+50899]\n\t(No symbol) [0x00A7E111]\n\t(No symbol) [0x00985588]\n\t(No symbol) [0x0096D333]\n\t(No symbol) [0x009CF4DB]\n\t(No symbol) [0x009DDB33]\n\t(No symbol) [0x009CB6F6]\n\t(No symbol) [0x009A7708]\n\t(No symbol) [0x009A886D]\n\tGetHandleVerifier [0x00D53EAE+2566302]\n\tGetHandleVerifier [0x00D892B1+2784417]\n\tGetHandleVerifier [0x00D8327C+2759788]\n\tGetHandleVerifier [0x00B85740+672048]\n\t(No symbol) [0x00A88872]\n\t(No symbol) [0x00A841C8]\n\t(No symbol) [0x00A842AB]\n\t(No symbol) [0x00A771B7]\n\tBaseThreadInitThunk [0x758000F9+25]\n\tRtlGetAppContainerNamedObjectPath [0x76FF7BBE+286]\n\tRtlGetAppContainerNamedObjectPath [0x76FF7B8E+238]\n"
     ]
    }
   ],
   "source": [
    "driver = uc.Chrome(options=options)\n",
    "\n",
    "for n in tqdm(lst['Tail_Number'].unique()):\n",
    "    # sleep = np.random.randint(2, 3)\n",
    "    driver.get(f\"https://www.airfleets.net/recherche/?key={n}\")\n",
    "    \n",
    "    try:\n",
    "        # airline = driver.find_element(By.XPATH, '/html/body/main/div[1]/div/div[2]/table[1]/tbody/tr[2]/td[4]').text\n",
    "        airline = WebDriverWait(driver, timeout=3).until(\n",
    "            EC.presence_of_element_located((By.XPATH, '/html/body/main/div[1]/div/div[2]/table[1]/tbody/tr[2]/td[4]'))).text\n",
    "                                               \n",
    "        lst.loc[lst['Tail_Number'] == n, 'Airline'] = airline\n",
    "\n",
    "    except:\n",
    "        print('조회결과 없음 : ', n)\n",
    "    # time.sleep(sleep)\n",
    "    "
   ]
  },
  {
   "cell_type": "code",
   "execution_count": 26,
   "metadata": {},
   "outputs": [],
   "source": [
    "from selenium\n",
    "import webdriver from selenium.webdriver.chrome.options\n",
    "import Options\n",
    "import Options\n",
    "for i in range(3):\n",
    "chrome_options = Options()\n",
    "chrome_options.add_argument(\"--proxy-server=socks5://127.0.0.1:9150\")\n",
    "driver = webdriver.Chrome(executable_path='C:/Users/user/Desktop/크롤링/crawler/crwaling code/chromedriver/chromedriver.exe', options=chrome_options)\n",
    "driver.get('https://whatismyipaddress.com/')"
   ]
  },
  {
   "cell_type": "code",
   "execution_count": 28,
   "metadata": {},
   "outputs": [
    {
     "data": {
      "text/plain": [
       "'Spirit Airlines'"
      ]
     },
     "execution_count": 28,
     "metadata": {},
     "output_type": "execute_result"
    }
   ],
   "source": [
    "text.text"
   ]
  }
 ],
 "metadata": {
  "kernelspec": {
   "display_name": "Python 3.8.10 64-bit ('3.8.10')",
   "language": "python",
   "name": "python3"
  },
  "language_info": {
   "codemirror_mode": {
    "name": "ipython",
    "version": 3
   },
   "file_extension": ".py",
   "mimetype": "text/x-python",
   "name": "python",
   "nbconvert_exporter": "python",
   "pygments_lexer": "ipython3",
   "version": "3.8.10"
  },
  "orig_nbformat": 4,
  "vscode": {
   "interpreter": {
    "hash": "d6ad6a5e467af0c55cd3439f95cdffc9b087666e3ab0338166755486d36b79e1"
   }
  }
 },
 "nbformat": 4,
 "nbformat_minor": 2
}
