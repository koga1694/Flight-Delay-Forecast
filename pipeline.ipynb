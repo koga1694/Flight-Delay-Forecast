{
 "cells": [
  {
   "cell_type": "code",
   "execution_count": 1,
   "metadata": {},
   "outputs": [],
   "source": [
    "import pandas as pd\n",
    "import numpy as np\n",
    "import matplotlib.pyplot as plt\n",
    "import seaborn as sns\n",
    "pd.set_option('display.max_columns',None)\n",
    "\n",
    "data = pd.read_csv('train.csv')\n",
    "test = pd.read_csv('test.csv')\n",
    "sub = pd.read_csv('sample_submission.csv')"
   ]
  },
  {
   "cell_type": "code",
   "execution_count": 2,
   "metadata": {},
   "outputs": [],
   "source": [
    "import itertools\n",
    "from tqdm import tqdm\n",
    "from datetime import datetime, timedelta\n",
    "pd.set_option('mode.chained_assignment',  None)\n",
    "class Processing:\n",
    "    def __init__(self, x, test): # 이후 테스트 데이터도 넣는 버전 만들어야함\n",
    "        self.x = x\n",
    "        self.test = test\n",
    "    \n",
    "    def fill_airline_and_id(self, train, test):\n",
    "        print('Fill Airline and ID')\n",
    "        dum = train.dropna()\n",
    "        dum = dum.groupby('Carrier_ID(DOT)')['Airline'].value_counts().to_frame().rename(columns={'Airline': 'count'}).reset_index()\n",
    "        \n",
    "        for i in tqdm(range(dum.shape[0])):\n",
    "            id = dum['Carrier_ID(DOT)'].iloc[i]\n",
    "            airline = dum['Airline'].iloc[i]\n",
    "            \n",
    "            train.loc[train['Carrier_ID(DOT)'] == id, 'Airline'] = airline\n",
    "            test.loc[test['Carrier_ID(DOT)'] == id, 'Airline'] = airline\n",
    "            \n",
    "            train.loc[train['Airline'] == airline, 'Carrier_ID(DOT)'] = id\n",
    "            test.loc[test['Airline'] == airline, 'Carrier_ID(DOT)'] = id \n",
    "            \n",
    "        print('Done')        \n",
    "            \n",
    "        return train, test\n",
    "    \n",
    "    def fill_state(self, train, test):\n",
    "        dum = train.dropna()\n",
    "        dum1 = dum.groupby('Origin_State')['Origin_Airport_ID'].value_counts().to_frame().rename(columns={'Origin_Airport_ID': 'count'}).reset_index()\n",
    "        dum2 = dum.groupby('Destination_State')['Destination_Airport_ID'].value_counts().to_frame().rename(columns={'Destination_Airport_ID': 'count'}).reset_index()\n",
    "        \n",
    "        print('Fill State')\n",
    "        print('Origin State')\n",
    "        for i in tqdm(range(dum1.shape[0])):\n",
    "            state = dum1['Origin_State'].iloc[i]\n",
    "            id = dum1['Origin_Airport_ID'].iloc[i]\n",
    "            \n",
    "            train.loc[train['Origin_Airport_ID'] == id, 'Origin_State'] = state\n",
    "            test.loc[test['Origin_Airport_ID'] == id, 'Origin_State'] = state\n",
    "            \n",
    "        print('Destination State')\n",
    "        for i in tqdm(range(dum2.shape[0])):\n",
    "            state = dum2['Destination_State'].iloc[i]\n",
    "            id = dum2['Destination_Airport_ID'].iloc[i]\n",
    "            \n",
    "            train.loc[train['Destination_Airport_ID'] == id, 'Destination_State'] = state\n",
    "            test.loc[test['Destination_Airport_ID'] == id, 'Destination_State'] = state\n",
    "        \n",
    "        print('Done')        \n",
    "        \n",
    "        return train, test\n",
    "   \n",
    "    def run(self):\n",
    "        train, test = self.fill_airline_and_id(self.x, self.test)\n",
    "        train, test = self.fill_state(train, test)\n",
    "\n",
    "        return train, test\n",
    "\n",
    "    \n",
    "    \n",
    "\n",
    "\n",
    "    \n",
    "                \n",
    "                \n",
    "            \n",
    "        "
   ]
  },
  {
   "cell_type": "code",
   "execution_count": 3,
   "metadata": {},
   "outputs": [
    {
     "name": "stdout",
     "output_type": "stream",
     "text": [
      "Fill Airline and ID\n"
     ]
    },
    {
     "name": "stderr",
     "output_type": "stream",
     "text": [
      "100%|██████████| 28/28 [00:02<00:00, 11.19it/s]\n"
     ]
    },
    {
     "name": "stdout",
     "output_type": "stream",
     "text": [
      "Done\n",
      "Fill State\n",
      "Origin State\n"
     ]
    },
    {
     "name": "stderr",
     "output_type": "stream",
     "text": [
      "100%|██████████| 371/371 [00:02<00:00, 135.13it/s]\n"
     ]
    },
    {
     "name": "stdout",
     "output_type": "stream",
     "text": [
      "Destination State\n"
     ]
    },
    {
     "name": "stderr",
     "output_type": "stream",
     "text": [
      "100%|██████████| 373/373 [00:02<00:00, 133.46it/s]"
     ]
    },
    {
     "name": "stdout",
     "output_type": "stream",
     "text": [
      "Done\n"
     ]
    },
    {
     "name": "stderr",
     "output_type": "stream",
     "text": [
      "\n"
     ]
    }
   ],
   "source": [
    "p = Processing(data, test)\n",
    "train, test = p.run()"
   ]
  },
  {
   "cell_type": "code",
   "execution_count": 4,
   "metadata": {},
   "outputs": [
    {
     "data": {
      "text/plain": [
       "ID                               0\n",
       "Month                            0\n",
       "Day_of_Month                     0\n",
       "Estimated_Departure_Time    109019\n",
       "Estimated_Arrival_Time      109040\n",
       "Cancelled                        0\n",
       "Diverted                         0\n",
       "Origin_Airport                   0\n",
       "Origin_Airport_ID                0\n",
       "Origin_State                     6\n",
       "Destination_Airport              0\n",
       "Destination_Airport_ID           0\n",
       "Destination_State                1\n",
       "Distance                         0\n",
       "Airline                      11883\n",
       "Carrier_Code(IATA)          108990\n",
       "Carrier_ID(DOT)              11883\n",
       "Tail_Number                      0\n",
       "Delay                       744999\n",
       "dtype: int64"
      ]
     },
     "execution_count": 4,
     "metadata": {},
     "output_type": "execute_result"
    }
   ],
   "source": [
    "train.isna().sum()"
   ]
  },
  {
   "cell_type": "code",
   "execution_count": 5,
   "metadata": {},
   "outputs": [
    {
     "data": {
      "text/plain": [
       "ID                               0\n",
       "Month                            0\n",
       "Day_of_Month                     0\n",
       "Estimated_Departure_Time    108984\n",
       "Estimated_Arrival_Time      109048\n",
       "Cancelled                        0\n",
       "Diverted                         0\n",
       "Origin_Airport                   0\n",
       "Origin_Airport_ID                0\n",
       "Origin_State                    39\n",
       "Destination_Airport              0\n",
       "Destination_Airport_ID           0\n",
       "Destination_State               22\n",
       "Distance                         0\n",
       "Airline                      11543\n",
       "Carrier_Code(IATA)          108993\n",
       "Carrier_ID(DOT)              11543\n",
       "Tail_Number                      0\n",
       "dtype: int64"
      ]
     },
     "execution_count": 5,
     "metadata": {},
     "output_type": "execute_result"
    }
   ],
   "source": [
    "test.isna().sum()"
   ]
  }
 ],
 "metadata": {
  "kernelspec": {
   "display_name": "Python 3.8.10 64-bit ('3.8.10')",
   "language": "python",
   "name": "python3"
  },
  "language_info": {
   "codemirror_mode": {
    "name": "ipython",
    "version": 3
   },
   "file_extension": ".py",
   "mimetype": "text/x-python",
   "name": "python",
   "nbconvert_exporter": "python",
   "pygments_lexer": "ipython3",
   "version": "3.8.10"
  },
  "orig_nbformat": 4,
  "vscode": {
   "interpreter": {
    "hash": "d6ad6a5e467af0c55cd3439f95cdffc9b087666e3ab0338166755486d36b79e1"
   }
  }
 },
 "nbformat": 4,
 "nbformat_minor": 2
}
